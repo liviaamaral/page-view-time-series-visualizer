{
 "cells": [
  {
   "cell_type": "markdown",
   "id": "north-pollution",
   "metadata": {},
   "source": [
    "This is a data analysis project found in https://www.freecodecamp.org/. The goal of this project is to demonstrate good foundational knowledge of data analysis with Python."
   ]
  },
  {
   "cell_type": "markdown",
   "id": "blank-luther",
   "metadata": {},
   "source": [
    "### Assignment\n",
    "\n",
    "For this project you will visualize time series data using a line chart, bar chart, and box plots. You will use Pandas, Matplotlib, and Seaborn to visualize a dataset containing the number of page views each day on the freeCodeCamp.org forum from 2016-05-09 to 2019-12-03. The data visualizations will help you understand the patterns in visits and identify yearly and monthly growth.\n",
    "\n",
    "Use the data to complete the following tasks:\n",
    "* Use Pandas to import the data from \"fcc-forum-pageviews.csv\". Set the index to the \"date\" column.\n",
    "* Clean the data by filtering out days when the page views were in the top 2.5% of the dataset or bottom 2.5% of the dataset.\n",
    "* Create a `draw_line_plot` function that uses Matplotlib to draw a line chart similar to \"examples/Figure_1.png\". The title should be \"Daily freeCodeCamp Forum Page Views 5/2016-12/2019\". The label on the x axis should be \"Date\" and the label on the y axis should be \"Page Views\".\n",
    "* Create a `draw_bar_plot` function that draws a bar chart similar to \"examples/Figure_2.png\". It should show average daily page views for each month grouped by year. The legend should show month labels and have a title of \"Months\". On the chart, the label on the x axis should be \"Years\" and the label on the y axis should be \"Average Page Views\".\n",
    "* Create a `draw_box_plot` function that uses Searborn to draw two adjacent box plots similar to \"examples/Figure_3.png\". These box plots should show how the values are distributed within a given year or month and how it compares over time. The title of the first chart should be \"Year-wise Box Plot (Trend)\" and the title of the second chart should be \"Month-wise Box Plot (Seasonality)\". Make sure the month labels on bottom start at \"Jan\" and the x and x axis are labeled correctly.\n",
    "\n",
    "For each chart, make sure to use a copy of the data frame. Unit tests are written for you under `test_module.py`.\n",
    "\n",
    "### Development\n",
    "\n",
    "For development, you can use `main.py` to test your functions. Click the \"run\" button and `main.py` will run.\n",
    "\n",
    "### Testing \n",
    "\n",
    "We imported the tests from `test_module.py` to `main.py` for your convenience. The tests will run automatically whenever you hit the \"run\" button.\n",
    "\n",
    "### Submitting\n",
    "\n",
    "Copy your project's URL and submit it to freeCodeCamp."
   ]
  },
  {
   "cell_type": "code",
   "execution_count": null,
   "id": "architectural-shore",
   "metadata": {},
   "outputs": [],
   "source": [
    "import matplotlib.pyplot as plt\n",
    "import pandas as pd\n",
    "import seaborn as sns\n",
    "from pandas.plotting import register_matplotlib_converters\n",
    "register_matplotlib_converters()\n",
    "import datetime\n",
    "%matplotlib inline"
   ]
  },
  {
   "cell_type": "code",
   "execution_count": null,
   "id": "difficult-tunisia",
   "metadata": {},
   "outputs": [],
   "source": [
    "# Import data (Make sure to parse dates. Consider setting index column to 'date'.)\n",
    "df = pd.read_csv(\"fcc-forum-pageviews.csv\", parse_dates=True)\n",
    "df.set_index(\"date\", inplace=True)"
   ]
  },
  {
   "cell_type": "code",
   "execution_count": null,
   "id": "subtle-paint",
   "metadata": {},
   "outputs": [],
   "source": [
    "# Clean data\n",
    "df = df[(df['value'] > df['value'].quantile(0.025)) & (df['value'] < df['value'].quantile(0.975))]"
   ]
  },
  {
   "cell_type": "code",
   "execution_count": null,
   "id": "fluid-relations",
   "metadata": {},
   "outputs": [],
   "source": [
    "# Draw line plot\n",
    "fig, ax = plt.subplots(figsize=(10,8))\n",
    "ax.plot(df)\n",
    "\n",
    "plt.title('Daily freeCodeCamp Forum Page Views 5/2016-12/2019')\n",
    "plt.xlabel('Date')\n",
    "plt.ylabel('Page Views')"
   ]
  },
  {
   "cell_type": "code",
   "execution_count": null,
   "id": "floppy-burner",
   "metadata": {},
   "outputs": [],
   "source": [
    "# Copy and modify data for monthly bar plot\n",
    "df_bar = pd.DataFrame(df.copy()).reset_index()\n",
    "df_bar['month'] = pd.DatetimeIndex(df_bar['date']).month_name()\n",
    "df_bar['year'] = pd.DatetimeIndex(df_bar['date']).year"
   ]
  },
  {
   "cell_type": "code",
   "execution_count": null,
   "id": "formed-speaker",
   "metadata": {},
   "outputs": [],
   "source": [
    "# Draw bar plot    \n",
    "months = ['January', 'February', 'March', 'April','May', 'June', 'July', 'August', 'September', 'October', 'November', 'December']\n",
    "fig, ax = plt.subplots(1, figsize=(8, 6))\n",
    "\n",
    "sns.barplot(x='year', y='value', hue='month', hue_order=months, data=df_bar, ci=None)\n",
    "plt.xlabel('Years')\n",
    "plt.ylabel('Average Page Views')\n",
    "plt.legend(loc='upper left', title='Months')    "
   ]
  },
  {
   "cell_type": "code",
   "execution_count": null,
   "id": "skilled-douglas",
   "metadata": {},
   "outputs": [],
   "source": [
    "# Prepare data for box plots (this part is done!)\n",
    "df_box = df.copy()\n",
    "df_box.reset_index(inplace=True)\n",
    "df_box['date'] = pd.to_datetime(df_box.date, format='%Y-%m-%d')\n",
    "\n",
    "df_box['year'] = [d.year for d in df_box.date]\n",
    "df_box['month'] = [d.strftime('%b') for d in df_box.date]"
   ]
  },
  {
   "cell_type": "code",
   "execution_count": null,
   "id": "recorded-polyester",
   "metadata": {},
   "outputs": [],
   "source": [
    "# Draw box plots (using Seaborn)\n",
    "fig, axes = plt.subplots(figsize=(12,6), ncols=2)\n",
    "\n",
    "ax0 = sns.boxplot(x='year', y='value', data=df_box, ax=axes[0])\n",
    "ax0.set_xlabel('Year')\n",
    "ax0.set_ylabel('Page Views')\n",
    "ax0.set_title('Year-wise Box Plot (Trend)')\n",
    "\n",
    "months = ['Jan', 'Feb', 'Mar', 'Apr','May', 'Jun', 'Jul', 'Aug', 'Sep', 'Oct', 'Nov', 'Dec']\n",
    "\n",
    "ax1 = sns.boxplot(x='month', y='value', order=months, data=df_box, ax=axes[1])\n",
    "ax1.set_xlabel('Month')\n",
    "ax1.set_ylabel('Page Views')\n",
    "ax1.set_title('Month-wise Box Plot (Seasonality)')"
   ]
  }
 ],
 "metadata": {
  "kernelspec": {
   "display_name": "Python 3",
   "language": "python",
   "name": "python3"
  },
  "language_info": {
   "codemirror_mode": {
    "name": "ipython",
    "version": 3
   },
   "file_extension": ".py",
   "mimetype": "text/x-python",
   "name": "python",
   "nbconvert_exporter": "python",
   "pygments_lexer": "ipython3",
   "version": "3.8.5"
  }
 },
 "nbformat": 4,
 "nbformat_minor": 5
}
